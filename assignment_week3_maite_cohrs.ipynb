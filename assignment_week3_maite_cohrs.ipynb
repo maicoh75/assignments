{
 "cells": [
  {
   "metadata": {
    "ExecuteTime": {
     "end_time": "2025-04-26T16:42:46.333701Z",
     "start_time": "2025-04-26T16:42:32.090613Z"
    }
   },
   "cell_type": "code",
   "source": [
    "import random\n",
    "\n",
    "# User Inputs\n",
    "width = int(input(\"Enter the flag width (20 to 50): \"))\n",
    "height = int(input(\"Enter the flag height (5 to 15): \"))\n",
    "fan_message = input(\"Enter your favorite St. Pauli fan message: \")\n",
    "\n",
    "# Validation\n",
    "if width < 20 or width > 50:\n",
    "    print(\"Width out of range, setting to 30.\")\n",
    "    width = 30\n",
    "\n",
    "if height < 5 or height > 15:\n",
    "    print(\"Height out of range, setting to 10.\")\n",
    "    height = 10\n",
    "\n",
    "print(\"\\n🏴‍☠️ FC St. Pauli Skull Flag 🏴‍☠️\\n\")\n",
    "\n",
    "# Top border\n",
    "print(\"#\" * width)\n",
    "\n",
    "# Middle part\n",
    "for row in range(height):\n",
    "    line = \"#\"\n",
    "\n",
    "    if row == height // 3:\n",
    "        # Eyes row\n",
    "        mid = width // 2\n",
    "        eye_space = 3\n",
    "        for col in range(1, width-1):\n",
    "            if col == mid - eye_space:\n",
    "                line += \"o\"\n",
    "            elif col == mid + eye_space:\n",
    "                line += \"o\"\n",
    "            else:\n",
    "                line += \" \"\n",
    "        line += \"#\"\n",
    "\n",
    "    elif row == height // 2:\n",
    "        # Nose row\n",
    "        mid = width // 2\n",
    "        for col in range(1, width-1):\n",
    "            if col == mid:\n",
    "                line += \"^\"\n",
    "            else:\n",
    "                line += \" \"\n",
    "        line += \"#\"\n",
    "\n",
    "    elif row == (2 * height) // 3:\n",
    "        # Teeth row\n",
    "        for col in range(1, width-1):\n",
    "            if random.random() < 0.2:\n",
    "                line += \"|\"\n",
    "            else:\n",
    "                line += \"_\"\n",
    "        line += \"#\"\n",
    "\n",
    "    else:\n",
    "        # Empty rows\n",
    "        line += \" \" * (width - 2)\n",
    "        line += \"#\"\n",
    "\n",
    "    print(line)\n",
    "\n",
    "# Bottom border\n",
    "print(\"#\" * width)\n",
    "\n",
    "# Fan message centered under the flag\n",
    "padding = (width - len(fan_message)) // 2\n",
    "print(\" \" * padding + fan_message.upper())\n",
    "\n",
    "print(\"\\n⚡ Forza Sankt Pauli! ⚡\")"
   ],
   "id": "c08f2c1eff7038fd",
   "outputs": [
    {
     "name": "stdout",
     "output_type": "stream",
     "text": [
      "\n",
      "🏴‍☠️ FC St. Pauli Skull Flag 🏴‍☠️\n",
      "\n",
      "#############################################\n",
      "#                                           #\n",
      "#                                           #\n",
      "#                                           #\n",
      "#                  o     o                  #\n",
      "#                                           #\n",
      "#                     ^                     #\n",
      "#____________|_____________|_______________|#\n",
      "#                                           #\n",
      "#                                           #\n",
      "#                                           #\n",
      "#############################################\n",
      "                MAGISCHER FC\n",
      "\n",
      "⚡ Forza Sankt Pauli! ⚡\n"
     ]
    }
   ],
   "execution_count": 5
  },
  {
   "metadata": {},
   "cell_type": "code",
   "outputs": [],
   "execution_count": null,
   "source": "",
   "id": "e386481dc165c49a"
  }
 ],
 "metadata": {
  "kernelspec": {
   "display_name": "Python 3",
   "language": "python",
   "name": "python3"
  },
  "language_info": {
   "codemirror_mode": {
    "name": "ipython",
    "version": 2
   },
   "file_extension": ".py",
   "mimetype": "text/x-python",
   "name": "python",
   "nbconvert_exporter": "python",
   "pygments_lexer": "ipython2",
   "version": "2.7.6"
  }
 },
 "nbformat": 4,
 "nbformat_minor": 5
}
